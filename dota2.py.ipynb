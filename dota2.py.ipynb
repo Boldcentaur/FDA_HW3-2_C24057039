{
 "cells": [
  {
   "cell_type": "markdown",
   "metadata": {},
   "source": [
    "# 作業 3-2\n",
    "\n",
    "### Dota2 Games Results "
   ]
  },
  {
   "cell_type": "markdown",
   "metadata": {},
   "source": [
    "## 環境\n",
    "\n",
    "請填寫當前執行使用的環境。\n",
    "\n",
    "|環境|名稱|版本|\n",
    "|-|-|-|\n",
    "|作業系統|Windows|10|\n",
    "|程式執行環境|jupyter notebook|1.0.0|\n",
    "|python 版本|python3|3.7.5|\n",
    "|安裝環境|pip|20.0.2|"
   ]
  },
  {
   "cell_type": "markdown",
   "metadata": {},
   "source": [
    "## 安裝\n",
    "\n",
    "請填寫安裝套件需要的指令\n",
    "\n",
    "```sh\n",
    "pip install -r requirements.txt\n",
    "```"
   ]
  },
  {
   "cell_type": "markdown",
   "metadata": {},
   "source": [
    "## 計算資源\n",
    "\n",
    "請填寫執行程式所需要的計算資源，請確保所有資源限制在單一個人桌上型電腦且能夠以總市價低於 5 萬的手段取得。\n",
    "\n",
    "|計算資源|答案|\n",
    "|-|-|\n",
    "|使用 CPU 核心數|1|\n",
    "|記憶體需求|$\\leq 1$GB|\n",
    "|有無使用 GPU|無|\n",
    "|GPU 版本|無|\n",
    "|GPU 記憶體需求|$\\leq 1$GB|"
   ]
  },
  {
   "cell_type": "code",
   "execution_count": 66,
   "metadata": {},
   "outputs": [],
   "source": [
    "import time\n",
    "import numpy as np\n",
    "import pandas as pd\n",
    "\n",
    "EXECUTION_START_TIME = time.time() # 計算執行時間\n",
    "\n",
    "train_df = pd.read_csv('dota2Train.csv')\n",
    "test_df = pd.read_csv('dota2Test.csv')"
   ]
  },
  {
   "cell_type": "markdown",
   "metadata": {},
   "source": [
    "## 資料分析與前處理\n",
    "\n",
    "- 資料分析内容\n",
    "- 資料視覺化\n",
    "- 決定輸入特徵\n",
    "- 處理缺失值\n",
    "- 轉換類別\n",
    "- 其他"
   ]
  },
  {
   "cell_type": "markdown",
   "metadata": {},
   "source": [
    "### 資料分析內容\n",
    "\n",
    "此為2016/8/13其中兩小時内Dota2游戲的詳細資料，本次資料分析的目的為通過雙方英雄陣容來預測游戲的勝負。\n"
   ]
  },
  {
   "cell_type": "code",
   "execution_count": 2,
   "metadata": {},
   "outputs": [
    {
     "data": {
      "image/png": "[encoded data removed]",
      "text/plain": [
       "<Figure size 432x288 with 1 Axes>"
      ]
     },
     "metadata": {},
     "output_type": "display_data"
    }
   ],
   "source": [
    "import matplotlib.pyplot as plt\n",
    "\n",
    "#計算陣營勝率\n",
    "labels = ('Team 1', 'Team 2')\n",
    "sizes = (train_df['Result'].value_counts()[1], train_df['Result'].value_counts()[-1])\n",
    "explode = (0.1, 0)\n",
    "\n",
    "fig, ax = plt.subplots()\n",
    "ax.pie(sizes, labels=labels, explode=explode, autopct='%1.1f%%', shadow=True)\n",
    "plt.title(\"Win Rate\")\n",
    "\n",
    "plt.show()"
   ]
  },
  {
   "cell_type": "code",
   "execution_count": 67,
   "metadata": {},
   "outputs": [],
   "source": [
    "#經檢查後發現Hero24及Hero108的資料都是0，故移除。\n",
    "train_df = train_df.drop(['Hero24', 'Hero108'], axis=1)\n",
    "test_df = test_df.drop(['Hero24', 'Hero108'], axis=1)"
   ]
  },
  {
   "cell_type": "code",
   "execution_count": 4,
   "metadata": {},
   "outputs": [],
   "source": [
    "# 計算英雄登場率（不管陣營，1和-1都算）\n",
    "occurance = {}\n",
    "for i in train_df.iloc[:, 4:]:\n",
    "    occurance[i] = len(train_df) - train_df[i].value_counts()[0]"
   ]
  },
  {
   "cell_type": "code",
   "execution_count": 5,
   "metadata": {},
   "outputs": [
    {
     "data": {
      "text/plain": [
       "{'Hero1': 14973,\n",
       " 'Hero2': 20264,\n",
       " 'Hero3': 2524,\n",
       " 'Hero4': 11702,\n",
       " 'Hero5': 10050,\n",
       " 'Hero6': 21700,\n",
       " 'Hero7': 11276,\n",
       " 'Hero8': 23327,\n",
       " 'Hero9': 32048,\n",
       " 'Hero10': 9807,\n",
       " 'Hero11': 10410,\n",
       " 'Hero12': 7288,\n",
       " 'Hero13': 4563,\n",
       " 'Hero14': 28285,\n",
       " 'Hero15': 4181,\n",
       " 'Hero16': 11013,\n",
       " 'Hero17': 11688,\n",
       " 'Hero18': 17029,\n",
       " 'Hero19': 7778,\n",
       " 'Hero20': 7513,\n",
       " 'Hero21': 14473,\n",
       " 'Hero22': 9968,\n",
       " 'Hero23': 9635,\n",
       " 'Hero25': 7319,\n",
       " 'Hero26': 12108,\n",
       " 'Hero27': 5653,\n",
       " 'Hero28': 10878,\n",
       " 'Hero29': 6424,\n",
       " 'Hero30': 6670,\n",
       " 'Hero31': 4365,\n",
       " 'Hero32': 19670,\n",
       " 'Hero33': 4481,\n",
       " 'Hero34': 11558,\n",
       " 'Hero35': 17276,\n",
       " 'Hero36': 10729,\n",
       " 'Hero37': 3602,\n",
       " 'Hero38': 2506,\n",
       " 'Hero39': 6538,\n",
       " 'Hero40': 4607,\n",
       " 'Hero41': 16746,\n",
       " 'Hero42': 11650,\n",
       " 'Hero43': 3994,\n",
       " 'Hero44': 29802,\n",
       " 'Hero45': 3202,\n",
       " 'Hero46': 4805,\n",
       " 'Hero47': 6801,\n",
       " 'Hero48': 7506,\n",
       " 'Hero49': 5284,\n",
       " 'Hero50': 5869,\n",
       " 'Hero51': 3919,\n",
       " 'Hero52': 2636,\n",
       " 'Hero53': 7269,\n",
       " 'Hero54': 12361,\n",
       " 'Hero55': 3363,\n",
       " 'Hero56': 7410,\n",
       " 'Hero57': 8320,\n",
       " 'Hero58': 2818,\n",
       " 'Hero59': 12707,\n",
       " 'Hero60': 4407,\n",
       " 'Hero61': 1960,\n",
       " 'Hero62': 12717,\n",
       " 'Hero63': 7894,\n",
       " 'Hero64': 3558,\n",
       " 'Hero65': 3737,\n",
       " 'Hero66': 790,\n",
       " 'Hero67': 7601,\n",
       " 'Hero68': 6005,\n",
       " 'Hero69': 3293,\n",
       " 'Hero70': 10368,\n",
       " 'Hero71': 10449,\n",
       " 'Hero72': 3360,\n",
       " 'Hero73': 12069,\n",
       " 'Hero74': 21262,\n",
       " 'Hero75': 7780,\n",
       " 'Hero76': 4321,\n",
       " 'Hero77': 2426,\n",
       " 'Hero78': 1558,\n",
       " 'Hero79': 5390,\n",
       " 'Hero80': 1575,\n",
       " 'Hero81': 4956,\n",
       " 'Hero82': 3316,\n",
       " 'Hero83': 2426,\n",
       " 'Hero84': 9219,\n",
       " 'Hero85': 4213,\n",
       " 'Hero86': 7531,\n",
       " 'Hero87': 4965,\n",
       " 'Hero88': 7402,\n",
       " 'Hero89': 2961,\n",
       " 'Hero90': 4713,\n",
       " 'Hero91': 1592,\n",
       " 'Hero92': 888,\n",
       " 'Hero93': 23125,\n",
       " 'Hero94': 8188,\n",
       " 'Hero95': 6060,\n",
       " 'Hero96': 4621,\n",
       " 'Hero97': 5507,\n",
       " 'Hero98': 17155,\n",
       " 'Hero99': 8145,\n",
       " 'Hero100': 3759,\n",
       " 'Hero101': 4534,\n",
       " 'Hero102': 4079,\n",
       " 'Hero103': 5959,\n",
       " 'Hero104': 26521,\n",
       " 'Hero105': 3936,\n",
       " 'Hero106': 7472,\n",
       " 'Hero107': 2253,\n",
       " 'Hero109': 4513,\n",
       " 'Hero110': 3862,\n",
       " 'Hero111': 2637,\n",
       " 'Hero112': 3340,\n",
       " 'Hero113': 1791}"
      ]
     },
     "execution_count": 5,
     "metadata": {},
     "output_type": "execute_result"
    }
   ],
   "source": [
    "occurance"
   ]
  },
  {
   "cell_type": "code",
   "execution_count": 6,
   "metadata": {},
   "outputs": [
    {
     "data": {
      "text/plain": [
       "<matplotlib.legend.Legend at 0x1aa49260e88>"
      ]
     },
     "execution_count": 6,
     "metadata": {},
     "output_type": "execute_result"
    },
    {
     "data": {
      "image/png": "[encoded data removed]",
      "text/plain": [
       "<Figure size 432x288 with 1 Axes>"
      ]
     },
     "metadata": {
      "needs_background": "light"
     },
     "output_type": "display_data"
    }
   ],
   "source": [
    "#登場率最高的10個英雄\n",
    "from collections import Counter\n",
    "occurance_top = dict(Counter(occurance).most_common(10))\n",
    "\n",
    "labels = []\n",
    "values1 = []\n",
    "values2 = []\n",
    "for i in occurance_top:\n",
    "    labels.append(i)\n",
    "    values1.append(train_df[i].value_counts(normalize=True)[1])\n",
    "    values2.append(train_df[i].value_counts(normalize=True)[-1])\n",
    "\n",
    "plt.title('Top 10 Hero Occurance')\n",
    "p1 = plt.barh(labels, values1)\n",
    "p2 = plt.barh(labels, values2, left=values1)\n",
    "plt.legend((p1[0], p2[0]), ('Team 1', 'Team 2'))"
   ]
  },
  {
   "cell_type": "code",
   "execution_count": 7,
   "metadata": {},
   "outputs": [],
   "source": [
    "#計算勝率（不分陣營）\n",
    "win_rate = {}\n",
    "for i in train_df.iloc[:, 4:]:\n",
    "    win_rate[i] = 0"
   ]
  },
  {
   "cell_type": "code",
   "execution_count": 8,
   "metadata": {},
   "outputs": [],
   "source": [
    "for i in range(4, 115):\n",
    "    count = 0\n",
    "    for j in train_df.iloc[:, i]:\n",
    "        if j == train_df.iloc[count, 0]:\n",
    "            win_rate[train_df.columns[i]] += 1\n",
    "        count += 1\n",
    "    win_rate[train_df.columns[i]] /= occurance[train_df.columns[i]]"
   ]
  },
  {
   "cell_type": "code",
   "execution_count": 9,
   "metadata": {},
   "outputs": [
    {
     "data": {
      "text/plain": [
       "{'Hero1': 0.46697388632872505,\n",
       " 'Hero2': 0.5270430319778918,\n",
       " 'Hero3': 0.4500792393026941,\n",
       " 'Hero4': 0.5075200820372586,\n",
       " 'Hero5': 0.5476616915422886,\n",
       " 'Hero6': 0.5347465437788018,\n",
       " 'Hero7': 0.5015963107484924,\n",
       " 'Hero8': 0.5043940498135208,\n",
       " 'Hero9': 0.5532014478282576,\n",
       " 'Hero10': 0.5014785357397777,\n",
       " 'Hero11': 0.47050912584053795,\n",
       " 'Hero12': 0.45568057080131724,\n",
       " 'Hero13': 0.45014245014245013,\n",
       " 'Hero14': 0.517588828000707,\n",
       " 'Hero15': 0.46663477636928963,\n",
       " 'Hero16': 0.49759375283755564,\n",
       " 'Hero17': 0.48579739904175223,\n",
       " 'Hero18': 0.5415467731516824,\n",
       " 'Hero19': 0.44883003342761635,\n",
       " 'Hero20': 0.5245574337814455,\n",
       " 'Hero21': 0.43584605817729566,\n",
       " 'Hero22': 0.5459470304975923,\n",
       " 'Hero23': 0.4908147379346134,\n",
       " 'Hero25': 0.43872113676731794,\n",
       " 'Hero26': 0.47753551370994385,\n",
       " 'Hero27': 0.5347603042632231,\n",
       " 'Hero28': 0.5111233682662254,\n",
       " 'Hero29': 0.5200809464508095,\n",
       " 'Hero30': 0.5022488755622189,\n",
       " 'Hero31': 0.534020618556701,\n",
       " 'Hero32': 0.5455007625826132,\n",
       " 'Hero33': 0.5239901807632225,\n",
       " 'Hero34': 0.4691988233258349,\n",
       " 'Hero35': 0.5047464690900672,\n",
       " 'Hero36': 0.564451486625035,\n",
       " 'Hero37': 0.5416435313714603,\n",
       " 'Hero38': 0.4828411811652035,\n",
       " 'Hero39': 0.41954726215968186,\n",
       " 'Hero40': 0.5220316909051443,\n",
       " 'Hero41': 0.5047772602412517,\n",
       " 'Hero42': 0.5534763948497854,\n",
       " 'Hero43': 0.4699549323985979,\n",
       " 'Hero44': 0.5134554727870613,\n",
       " 'Hero45': 0.47251717676452215,\n",
       " 'Hero46': 0.4466181061394381,\n",
       " 'Hero47': 0.48889869136891634,\n",
       " 'Hero48': 0.5458300026645351,\n",
       " 'Hero49': 0.4984859954579864,\n",
       " 'Hero50': 0.5024706082807974,\n",
       " 'Hero51': 0.4980862464914519,\n",
       " 'Hero52': 0.44195751138088013,\n",
       " 'Hero53': 0.4164259182831201,\n",
       " 'Hero54': 0.4961572688293827,\n",
       " 'Hero55': 0.49568837347606304,\n",
       " 'Hero56': 0.4601889338731444,\n",
       " 'Hero57': 0.6085336538461539,\n",
       " 'Hero58': 0.39389638041163944,\n",
       " 'Hero59': 0.46564885496183206,\n",
       " 'Hero60': 0.5048786022237349,\n",
       " 'Hero61': 0.3760204081632653,\n",
       " 'Hero62': 0.47550522922072813,\n",
       " 'Hero63': 0.4935393970103876,\n",
       " 'Hero64': 0.5148960089938167,\n",
       " 'Hero65': 0.4495584693604496,\n",
       " 'Hero66': 0.4240506329113924,\n",
       " 'Hero67': 0.5538744901986581,\n",
       " 'Hero68': 0.5094088259783514,\n",
       " 'Hero69': 0.44913452778621316,\n",
       " 'Hero70': 0.537133487654321,\n",
       " 'Hero71': 0.5177528950138769,\n",
       " 'Hero72': 0.4461309523809524,\n",
       " 'Hero73': 0.4955671555224128,\n",
       " 'Hero74': 0.45879973661932083,\n",
       " 'Hero75': 0.549357326478149,\n",
       " 'Hero76': 0.49109002545707015,\n",
       " 'Hero77': 0.45671887881286066,\n",
       " 'Hero78': 0.4852374839537869,\n",
       " 'Hero79': 0.4712430426716141,\n",
       " 'Hero80': 0.38603174603174606,\n",
       " 'Hero81': 0.49414850686037126,\n",
       " 'Hero82': 0.4641133896260555,\n",
       " 'Hero83': 0.5222588623248146,\n",
       " 'Hero84': 0.5285822757348954,\n",
       " 'Hero85': 0.5032043674341324,\n",
       " 'Hero86': 0.45306068251228254,\n",
       " 'Hero87': 0.5133937562940584,\n",
       " 'Hero88': 0.5078357200756553,\n",
       " 'Hero89': 0.4515366430260047,\n",
       " 'Hero90': 0.5064714619138553,\n",
       " 'Hero91': 0.3555276381909548,\n",
       " 'Hero92': 0.44819819819819817,\n",
       " 'Hero93': 0.4939243243243243,\n",
       " 'Hero94': 0.526257938446507,\n",
       " 'Hero95': 0.5046204620462046,\n",
       " 'Hero96': 0.5477169443843324,\n",
       " 'Hero97': 0.45669148356637007,\n",
       " 'Hero98': 0.4880792771786651,\n",
       " 'Hero99': 0.4798035604665439,\n",
       " 'Hero100': 0.4229848363926576,\n",
       " 'Hero101': 0.46338773709748565,\n",
       " 'Hero102': 0.5467026231919588,\n",
       " 'Hero103': 0.5856687363651619,\n",
       " 'Hero104': 0.487123411636062,\n",
       " 'Hero105': 0.47484756097560976,\n",
       " 'Hero106': 0.42170770877944325,\n",
       " 'Hero107': 0.42609853528628494,\n",
       " 'Hero109': 0.4881453578550853,\n",
       " 'Hero110': 0.5126877265665458,\n",
       " 'Hero111': 0.4342055365946151,\n",
       " 'Hero112': 0.44640718562874254,\n",
       " 'Hero113': 0.4332774986041318}"
      ]
     },
     "execution_count": 9,
     "metadata": {},
     "output_type": "execute_result"
    }
   ],
   "source": [
    "win_rate"
   ]
  },
  {
   "cell_type": "code",
   "execution_count": 10,
   "metadata": {},
   "outputs": [
    {
     "data": {
      "text/plain": [
       "<BarContainer object of 10 artists>"
      ]
     },
     "execution_count": 10,
     "metadata": {},
     "output_type": "execute_result"
    },
    {
     "data": {
      "image/png": "[encoded data removed]",
      "text/plain": [
       "<Figure size 432x288 with 1 Axes>"
      ]
     },
     "metadata": {
      "needs_background": "light"
     },
     "output_type": "display_data"
    }
   ],
   "source": [
    "#勝率最高的10個英雄\n",
    "win_rate_top = dict(Counter(win_rate).most_common(10))\n",
    "\n",
    "labels = []\n",
    "values = []\n",
    "\n",
    "for i in win_rate_top:\n",
    "    labels.append(i)\n",
    "    values.append(win_rate_top[i])\n",
    "    \n",
    "\n",
    "plt.title('Top 10 Hero Win Rate')\n",
    "plt.barh(labels, values)"
   ]
  },
  {
   "cell_type": "code",
   "execution_count": 11,
   "metadata": {},
   "outputs": [],
   "source": [
    "train_x = train_df.iloc[:, 4:]\n",
    "train_y = train_df['Result']\n",
    "\n",
    "test_x = test_df.iloc[:, 4:]\n",
    "test_y = test_df['Result']"
   ]
  },
  {
   "cell_type": "code",
   "execution_count": 12,
   "metadata": {},
   "outputs": [
    {
     "name": "stdout",
     "output_type": "stream",
     "text": [
      "Train Accuracy: 0.600841878035618\n",
      "Test Accuracy: 0.5974353992617059\n"
     ]
    }
   ],
   "source": [
    "from sklearn.linear_model import LogisticRegression\n",
    "from sklearn.metrics import accuracy_score \n",
    "    \n",
    "model = LogisticRegression(random_state = 1012)\n",
    "model.fit(train_x, train_y)\n",
    "    \n",
    "train_pred_y = model.predict(train_x)\n",
    "train_acc = accuracy_score(train_y, train_pred_y)\n",
    "test_pred_y = model.predict(test_x)\n",
    "test_acc = accuracy_score(test_y, test_pred_y)\n",
    "\n",
    "print(\"Train Accuracy: {}\".format(train_acc))\n",
    "print(\"Test Accuracy: {}\".format(test_acc))"
   ]
  },
  {
   "cell_type": "markdown",
   "metadata": {},
   "source": [
    "## Improvement 1"
   ]
  },
  {
   "cell_type": "markdown",
   "metadata": {},
   "source": [
    "### 使用NN來進行實作"
   ]
  },
  {
   "cell_type": "code",
   "execution_count": 91,
   "metadata": {},
   "outputs": [],
   "source": [
    "train_df2 = pd.read_csv('dota2Train.csv')\n",
    "test_df2 = pd.read_csv('dota2Test.csv')"
   ]
  },
  {
   "cell_type": "code",
   "execution_count": 98,
   "metadata": {},
   "outputs": [],
   "source": [
    "#經檢查後發現Hero24及Hero108的資料都是0，故移除。\n",
    "train_df2 = train_df2.drop(['Hero24', 'Hero108'], axis=1)\n",
    "test_df2 = test_df2.drop(['Hero24', 'Hero108'], axis=1)"
   ]
  },
  {
   "cell_type": "code",
   "execution_count": 105,
   "metadata": {},
   "outputs": [],
   "source": [
    "count = 0\n",
    "for i in train_df2['Result']:\n",
    "    if i == -1:\n",
    "        train_df2['Result'][count] = 0\n",
    "    count += 1\n",
    "    \n",
    "count = 0\n",
    "for i in test_df2['Result']:\n",
    "    if i == -1:\n",
    "        test_df2['Result'][count] = 0\n",
    "    count += 1"
   ]
  },
  {
   "cell_type": "code",
   "execution_count": 99,
   "metadata": {},
   "outputs": [],
   "source": [
    "train_x2 = train_df2.iloc[:, 4:]\n",
    "train_y2 = train_df2['Result']\n",
    "\n",
    "test_x2 = test_df2.iloc[:, 4:]\n",
    "test_y2 = test_df2['Result']"
   ]
  },
  {
   "cell_type": "code",
   "execution_count": 107,
   "metadata": {},
   "outputs": [
    {
     "name": "stdout",
     "output_type": "stream",
     "text": [
      "Epoch 1/100\n",
      "92650/92650 [==============================] - 14s 150us/step - loss: 0.6701 - accuracy: 0.5844\n",
      "Epoch 2/100\n",
      "92650/92650 [==============================] - 14s 153us/step - loss: 0.6633 - accuracy: 0.5978\n",
      "Epoch 3/100\n",
      "92650/92650 [==============================] - 13s 146us/step - loss: 0.6619 - accuracy: 0.6000\n",
      "Epoch 4/100\n",
      "92650/92650 [==============================] - 13s 141us/step - loss: 0.6608 - accuracy: 0.6036\n",
      "Epoch 5/100\n",
      "92650/92650 [==============================] - 13s 144us/step - loss: 0.6600 - accuracy: 0.6034\n",
      "Epoch 6/100\n",
      "92650/92650 [==============================] - 13s 142us/step - loss: 0.6591 - accuracy: 0.6051\n",
      "Epoch 7/100\n",
      "92650/92650 [==============================] - 14s 155us/step - loss: 0.6585 - accuracy: 0.6063\n",
      "Epoch 8/100\n",
      "92650/92650 [==============================] - 15s 164us/step - loss: 0.6578 - accuracy: 0.6061\n",
      "Epoch 9/100\n",
      "92650/92650 [==============================] - 14s 153us/step - loss: 0.6572 - accuracy: 0.6080\n",
      "Epoch 10/100\n",
      "92650/92650 [==============================] - 14s 151us/step - loss: 0.6568 - accuracy: 0.6083\n",
      "Epoch 11/100\n",
      "92650/92650 [==============================] - 12s 134us/step - loss: 0.6565 - accuracy: 0.6086\n",
      "Epoch 12/100\n",
      "92650/92650 [==============================] - 13s 142us/step - loss: 0.6559 - accuracy: 0.6084\n",
      "Epoch 13/100\n",
      "92650/92650 [==============================] - 13s 143us/step - loss: 0.6556 - accuracy: 0.6099\n",
      "Epoch 14/100\n",
      "92650/92650 [==============================] - 13s 146us/step - loss: 0.6552 - accuracy: 0.6096\n",
      "Epoch 15/100\n",
      "92650/92650 [==============================] - 12s 133us/step - loss: 0.6548 - accuracy: 0.6108\n",
      "Epoch 16/100\n",
      "92650/92650 [==============================] - 13s 141us/step - loss: 0.6545 - accuracy: 0.6107\n",
      "Epoch 17/100\n",
      "92650/92650 [==============================] - 13s 139us/step - loss: 0.6543 - accuracy: 0.6113\n",
      "Epoch 18/100\n",
      "92650/92650 [==============================] - 14s 146us/step - loss: 0.6539 - accuracy: 0.6120\n",
      "Epoch 19/100\n",
      "92650/92650 [==============================] - 14s 155us/step - loss: 0.6536 - accuracy: 0.6118\n",
      "Epoch 20/100\n",
      "92650/92650 [==============================] - 14s 150us/step - loss: 0.6534 - accuracy: 0.6122\n",
      "Epoch 21/100\n",
      "92650/92650 [==============================] - 18s 199us/step - loss: 0.6531 - accuracy: 0.6130\n",
      "Epoch 22/100\n",
      "92650/92650 [==============================] - 14s 154us/step - loss: 0.6530 - accuracy: 0.6122\n",
      "Epoch 23/100\n",
      "92650/92650 [==============================] - 14s 154us/step - loss: 0.6528 - accuracy: 0.6122\n",
      "Epoch 24/100\n",
      "92650/92650 [==============================] - 15s 160us/step - loss: 0.6528 - accuracy: 0.6134\n",
      "Epoch 25/100\n",
      "92650/92650 [==============================] - 16s 174us/step - loss: 0.6524 - accuracy: 0.6135\n",
      "Epoch 26/100\n",
      "92650/92650 [==============================] - 16s 173us/step - loss: 0.6522 - accuracy: 0.6137\n",
      "Epoch 27/100\n",
      "92650/92650 [==============================] - 17s 181us/step - loss: 0.6521 - accuracy: 0.6142\n",
      "Epoch 28/100\n",
      "92650/92650 [==============================] - 14s 151us/step - loss: 0.6519 - accuracy: 0.6145\n",
      "Epoch 29/100\n",
      "92650/92650 [==============================] - 14s 151us/step - loss: 0.6519 - accuracy: 0.6142\n",
      "Epoch 30/100\n",
      "92650/92650 [==============================] - 13s 140us/step - loss: 0.6517 - accuracy: 0.6142\n",
      "Epoch 31/100\n",
      "92650/92650 [==============================] - 13s 139us/step - loss: 0.6515 - accuracy: 0.6150\n",
      "Epoch 32/100\n",
      "92650/92650 [==============================] - 13s 142us/step - loss: 0.6514 - accuracy: 0.6151\n",
      "Epoch 33/100\n",
      "92650/92650 [==============================] - 13s 142us/step - loss: 0.6511 - accuracy: 0.6145\n",
      "Epoch 34/100\n",
      "92650/92650 [==============================] - 13s 144us/step - loss: 0.6510 - accuracy: 0.6152\n",
      "Epoch 35/100\n",
      "92650/92650 [==============================] - 13s 140us/step - loss: 0.6507 - accuracy: 0.6154\n",
      "Epoch 36/100\n",
      "92650/92650 [==============================] - 13s 144us/step - loss: 0.6507 - accuracy: 0.6165\n",
      "Epoch 37/100\n",
      "92650/92650 [==============================] - 13s 141us/step - loss: 0.6506 - accuracy: 0.6163\n",
      "Epoch 38/100\n",
      "92650/92650 [==============================] - 13s 138us/step - loss: 0.6502 - accuracy: 0.6153\n",
      "Epoch 39/100\n",
      "92650/92650 [==============================] - 13s 136us/step - loss: 0.6503 - accuracy: 0.6153\n",
      "Epoch 40/100\n",
      "92650/92650 [==============================] - 14s 148us/step - loss: 0.6501 - accuracy: 0.6163\n",
      "Epoch 41/100\n",
      "92650/92650 [==============================] - 15s 161us/step - loss: 0.6501 - accuracy: 0.6163\n",
      "Epoch 42/100\n",
      "92650/92650 [==============================] - 15s 161us/step - loss: 0.6499 - accuracy: 0.6161\n",
      "Epoch 43/100\n",
      "92650/92650 [==============================] - 17s 187us/step - loss: 0.6497 - accuracy: 0.6169\n",
      "Epoch 44/100\n",
      "92650/92650 [==============================] - 15s 163us/step - loss: 0.6497 - accuracy: 0.6168\n",
      "Epoch 45/100\n",
      "92650/92650 [==============================] - 15s 161us/step - loss: 0.6497 - accuracy: 0.6169\n",
      "Epoch 46/100\n",
      "92650/92650 [==============================] - 14s 154us/step - loss: 0.6494 - accuracy: 0.6174\n",
      "Epoch 47/100\n",
      "92650/92650 [==============================] - 14s 153us/step - loss: 0.6495 - accuracy: 0.6168\n",
      "Epoch 48/100\n",
      "92650/92650 [==============================] - 13s 141us/step - loss: 0.6494 - accuracy: 0.6161\n",
      "Epoch 49/100\n",
      "92650/92650 [==============================] - 13s 142us/step - loss: 0.6491 - accuracy: 0.6170\n",
      "Epoch 50/100\n",
      "92650/92650 [==============================] - 13s 145us/step - loss: 0.6490 - accuracy: 0.6167\n",
      "Epoch 51/100\n",
      "92650/92650 [==============================] - 13s 144us/step - loss: 0.6491 - accuracy: 0.6174\n",
      "Epoch 52/100\n",
      "92650/92650 [==============================] - 13s 137us/step - loss: 0.6490 - accuracy: 0.6184\n",
      "Epoch 53/100\n",
      "92650/92650 [==============================] - 13s 137us/step - loss: 0.6490 - accuracy: 0.6168\n",
      "Epoch 54/100\n",
      "92650/92650 [==============================] - 12s 134us/step - loss: 0.6488 - accuracy: 0.6177\n",
      "Epoch 55/100\n",
      "92650/92650 [==============================] - 12s 133us/step - loss: 0.6490 - accuracy: 0.6175\n",
      "Epoch 56/100\n",
      "92650/92650 [==============================] - 13s 138us/step - loss: 0.6487 - accuracy: 0.6177\n",
      "Epoch 57/100\n",
      "92650/92650 [==============================] - 14s 147us/step - loss: 0.6486 - accuracy: 0.6179\n",
      "Epoch 58/100\n",
      "92650/92650 [==============================] - 14s 153us/step - loss: 0.6485 - accuracy: 0.6181\n",
      "Epoch 59/100\n",
      "92650/92650 [==============================] - 14s 151us/step - loss: 0.6486 - accuracy: 0.6168\n",
      "Epoch 60/100\n",
      "92650/92650 [==============================] - 14s 153us/step - loss: 0.6485 - accuracy: 0.6187\n",
      "Epoch 61/100\n",
      "92650/92650 [==============================] - 14s 150us/step - loss: 0.6482 - accuracy: 0.6187\n",
      "Epoch 62/100\n",
      "92650/92650 [==============================] - 14s 152us/step - loss: 0.6482 - accuracy: 0.6189\n",
      "Epoch 63/100\n",
      "92650/92650 [==============================] - 15s 159us/step - loss: 0.6481 - accuracy: 0.6184\n",
      "Epoch 64/100\n",
      "92650/92650 [==============================] - 15s 165us/step - loss: 0.6484 - accuracy: 0.6175\n",
      "Epoch 65/100\n",
      "92650/92650 [==============================] - 14s 154us/step - loss: 0.6482 - accuracy: 0.6187\n",
      "Epoch 66/100\n",
      "92650/92650 [==============================] - 13s 144us/step - loss: 0.6481 - accuracy: 0.6180\n",
      "Epoch 67/100\n",
      "92650/92650 [==============================] - 13s 141us/step - loss: 0.6481 - accuracy: 0.6175\n",
      "Epoch 68/100\n",
      "92650/92650 [==============================] - 13s 143us/step - loss: 0.6479 - accuracy: 0.6181\n",
      "Epoch 69/100\n",
      "92650/92650 [==============================] - 13s 137us/step - loss: 0.6478 - accuracy: 0.6179\n",
      "Epoch 70/100\n",
      "92650/92650 [==============================] - 13s 139us/step - loss: 0.6481 - accuracy: 0.6186\n",
      "Epoch 71/100\n",
      "92650/92650 [==============================] - 14s 152us/step - loss: 0.6478 - accuracy: 0.6191\n",
      "Epoch 72/100\n",
      "92650/92650 [==============================] - 13s 142us/step - loss: 0.6478 - accuracy: 0.6191\n",
      "Epoch 73/100\n",
      "92650/92650 [==============================] - 13s 144us/step - loss: 0.6477 - accuracy: 0.6178\n",
      "Epoch 74/100\n",
      "92650/92650 [==============================] - 15s 165us/step - loss: 0.6477 - accuracy: 0.6198\n",
      "Epoch 75/100\n",
      "92650/92650 [==============================] - 14s 151us/step - loss: 0.6476 - accuracy: 0.6189\n",
      "Epoch 76/100\n"
     ]
    },
    {
     "name": "stdout",
     "output_type": "stream",
     "text": [
      "92650/92650 [==============================] - 13s 142us/step - loss: 0.6476 - accuracy: 0.6195\n",
      "Epoch 77/100\n",
      "92650/92650 [==============================] - 14s 148us/step - loss: 0.6474 - accuracy: 0.6194\n",
      "Epoch 78/100\n",
      "92650/92650 [==============================] - 13s 146us/step - loss: 0.6474 - accuracy: 0.6202\n",
      "Epoch 79/100\n",
      "92650/92650 [==============================] - 13s 137us/step - loss: 0.6475 - accuracy: 0.6201\n",
      "Epoch 80/100\n",
      "92650/92650 [==============================] - 15s 162us/step - loss: 0.6474 - accuracy: 0.6195\n",
      "Epoch 81/100\n",
      "92650/92650 [==============================] - 13s 145us/step - loss: 0.6474 - accuracy: 0.6182\n",
      "Epoch 82/100\n",
      "92650/92650 [==============================] - 14s 154us/step - loss: 0.6472 - accuracy: 0.6191\n",
      "Epoch 83/100\n",
      "92650/92650 [==============================] - 15s 159us/step - loss: 0.6472 - accuracy: 0.6188\n",
      "Epoch 84/100\n",
      "92650/92650 [==============================] - 14s 156us/step - loss: 0.6472 - accuracy: 0.6199\n",
      "Epoch 85/100\n",
      "92650/92650 [==============================] - 13s 137us/step - loss: 0.6471 - accuracy: 0.6186\n",
      "Epoch 86/100\n",
      "92650/92650 [==============================] - 13s 137us/step - loss: 0.6471 - accuracy: 0.6210\n",
      "Epoch 87/100\n",
      "92650/92650 [==============================] - 13s 142us/step - loss: 0.6471 - accuracy: 0.6188\n",
      "Epoch 88/100\n",
      "92650/92650 [==============================] - 12s 133us/step - loss: 0.6470 - accuracy: 0.6203\n",
      "Epoch 89/100\n",
      "92650/92650 [==============================] - 12s 133us/step - loss: 0.6470 - accuracy: 0.6206\n",
      "Epoch 90/100\n",
      "92650/92650 [==============================] - 14s 146us/step - loss: 0.6470 - accuracy: 0.6203\n",
      "Epoch 91/100\n",
      "92650/92650 [==============================] - 12s 134us/step - loss: 0.6470 - accuracy: 0.6201\n",
      "Epoch 92/100\n",
      "92650/92650 [==============================] - 12s 132us/step - loss: 0.6467 - accuracy: 0.6211\n",
      "Epoch 93/100\n",
      "92650/92650 [==============================] - 13s 140us/step - loss: 0.6468 - accuracy: 0.6206\n",
      "Epoch 94/100\n",
      "92650/92650 [==============================] - 14s 148us/step - loss: 0.6468 - accuracy: 0.6205\n",
      "Epoch 95/100\n",
      "92650/92650 [==============================] - 13s 145us/step - loss: 0.6469 - accuracy: 0.6206\n",
      "Epoch 96/100\n",
      "92650/92650 [==============================] - 12s 134us/step - loss: 0.6468 - accuracy: 0.6200\n",
      "Epoch 97/100\n",
      "92650/92650 [==============================] - 13s 136us/step - loss: 0.6468 - accuracy: 0.6202\n",
      "Epoch 98/100\n",
      "92650/92650 [==============================] - 13s 143us/step - loss: 0.6466 - accuracy: 0.6203\n",
      "Epoch 99/100\n",
      "92650/92650 [==============================] - 14s 153us/step - loss: 0.6469 - accuracy: 0.6202\n",
      "Epoch 100/100\n",
      "92650/92650 [==============================] - 18s 192us/step - loss: 0.6466 - accuracy: 0.6204\n",
      "92650/92650 [==============================] - 2s 21us/step\n",
      "Train Accuracy: 62.52\n"
     ]
    }
   ],
   "source": [
    "from keras.models import Sequential\n",
    "from keras.layers import Dense\n",
    "\n",
    "model = Sequential()\n",
    "model.add(Dense(12, input_dim=111, activation='relu'))\n",
    "model.add(Dense(3, activation='relu'))\n",
    "model.add(Dense(1, activation='sigmoid'))\n",
    "\n",
    "model.compile(loss='binary_crossentropy', optimizer='adam', metrics=['accuracy'])\n",
    "\n",
    "model.fit(train_x2, train_y2, epochs=100, batch_size=10)  \n",
    "\n",
    "_, accuracy = model.evaluate(train_x2, train_y2)\n",
    "print('Train Accuracy: %.2f' % (accuracy*100))"
   ]
  },
  {
   "cell_type": "code",
   "execution_count": 111,
   "metadata": {},
   "outputs": [
    {
     "name": "stdout",
     "output_type": "stream",
     "text": [
      "Test Accuracy: 58.25\n"
     ]
    }
   ],
   "source": [
    "from sklearn.metrics import accuracy_score\n",
    "\n",
    "predictions2 = model.predict_classes(test_x2)\n",
    "accuracy2 = accuracy_score(test_y2, predictions2)\n",
    "print('Test Accuracy: %.2f' % (accuracy2*100))"
   ]
  },
  {
   "cell_type": "markdown",
   "metadata": {},
   "source": [
    "## Improvement 2"
   ]
  },
  {
   "cell_type": "markdown",
   "metadata": {},
   "source": [
    "加入Domain Knowledge，Dota2的英雄有分5個位置，若陣容平衡（每個位置一個人），勝率就越大。所以我加了Team1 Balance，Team 2 Balance的欄位，分別代表這兩隊的平衡分數，0為最佳（每個位置各一個英雄），4為最糟糕（全部英雄都同一個位置），然後在計算兩者之間的差存入Balance欄位中。所以在Balance欄位中，數字越正代表Team 2贏面大，越負代表Team 1贏面大。"
   ]
  },
  {
   "cell_type": "code",
   "execution_count": 54,
   "metadata": {},
   "outputs": [],
   "source": [
    "Position1 = ['Hero1', 'Hero6', 'Hero8', 'Hero10', 'Hero12', 'Hero18', 'Hero20', 'Hero35', 'Hero40', 'Hero41', 'Hero42', 'Hero44', 'Hero48', 'Hero54', 'Hero56', 'Hero59', 'Hero63', 'Hero67', 'Hero70', 'Hero72', 'Hero77', 'Hero80', 'Hero81', 'Hero89', 'Hero93', 'Hero94', 'Hero95', 'Hero98', 'Hero109']\n",
    "Position2 = ['Hero4', 'Hero9', 'Hero11', 'Hero13', 'Hero15', 'Hero17', 'Hero19', 'Hero21', 'Hero22', 'Hero25', 'Hero34', 'Hero36', 'Hero39', 'Hero43', 'Hero45', 'Hero46', 'Hero47', 'Hero49', 'Hero73', 'Hero74', 'Hero76', 'Hero82', 'Hero106', 'Hero113']\n",
    "Position3 = ['Hero2', 'Hero7', 'Hero29', 'Hero33', 'Hero38', 'Hero53', 'Hero55', 'Hero57', 'Hero61', 'Hero65', 'Hero78', 'Hero85', 'Hero88', 'Hero96', 'Hero97', 'Hero99', 'Hero102', 'Hero104', 'Hero105']\n",
    "Position4 = ['Hero14', 'Hero23', 'Hero32', 'Hero60', 'Hero62', 'Hero71', 'Hero100', 'Hero107']\n",
    "Position5 = ['Hero3', 'Hero5', 'Hero16', 'Hero26', 'Hero27', 'Hero28', 'Hero30', 'Hero31', 'Hero37', 'Hero50', 'Hero51', 'Hero52', 'Hero58', 'Hero64', 'Hero66', 'Hero68', 'Hero69', 'Hero75', 'Hero79', 'Hero83', 'Hero84', 'Hero86', 'Hero87', 'Hero90', 'Hero91', 'Hero92', 'Hero101', 'Hero103', 'Hero110', 'Hero110', 'Hero111', 'Hero112']"
   ]
  },
  {
   "cell_type": "code",
   "execution_count": 55,
   "metadata": {},
   "outputs": [],
   "source": [
    "for i in range(4, 115):\n",
    "    count = 0\n",
    "    for j in train_df.iloc[:, i]:\n",
    "        if train_df.columns[i] in Position1:\n",
    "            train_df[train_df.columns[i]][count] = j * 1\n",
    "        elif train_df.columns[i] in Position2:\n",
    "            train_df[train_df.columns[i]][count] = j * 2\n",
    "        elif train_df.columns[i] in Position3:\n",
    "            train_df[train_df.columns[i]][count] = j * 3\n",
    "        elif train_df.columns[i] in Position4:\n",
    "            train_df[train_df.columns[i]][count] = j * 4\n",
    "        elif train_df.columns[i] in Position5:\n",
    "            train_df[train_df.columns[i]][count] = j * 5\n",
    "        count += 1"
   ]
  },
  {
   "cell_type": "code",
   "execution_count": 56,
   "metadata": {},
   "outputs": [],
   "source": [
    "team1_balance = []\n",
    "team2_balance = []\n",
    "for i in range(0, len(train_df)):\n",
    "    point1 = 0\n",
    "    point2 = 0\n",
    "    team1_pos = [0, 0, 0, 0, 0]\n",
    "    team2_pos = [0, 0, 0, 0, 0]\n",
    "    for j in train_df.iloc[i, 4:]:\n",
    "        if j > 0:\n",
    "            team1_pos[j-1] += 1\n",
    "        elif j < 0:\n",
    "            team2_pos[abs(j)-1] += 1\n",
    "    for x in team1_pos:\n",
    "        if x == 0:\n",
    "            point1 += 1\n",
    "    for y in team2_pos:\n",
    "        if y == 0:\n",
    "            point2 += 1\n",
    "    team1_balance.append(point1)\n",
    "    team2_balance.append(point2)"
   ]
  },
  {
   "cell_type": "code",
   "execution_count": 57,
   "metadata": {},
   "outputs": [],
   "source": [
    "train_df['Team 1 Balance'] = team1_balance\n",
    "train_df['Team 2 Balance'] = team2_balance"
   ]
  },
  {
   "cell_type": "code",
   "execution_count": 68,
   "metadata": {},
   "outputs": [],
   "source": [
    "for i in range(4, 115):\n",
    "    count = 0\n",
    "    for j in test_df.iloc[:, i]:\n",
    "        if test_df.columns[i] in Position1:\n",
    "            test_df[test_df.columns[i]][count] = j * 1\n",
    "        elif test_df.columns[i] in Position2:\n",
    "            test_df[test_df.columns[i]][count] = j * 2\n",
    "        elif test_df.columns[i] in Position3:\n",
    "            test_df[test_df.columns[i]][count] = j * 3\n",
    "        elif test_df.columns[i] in Position4:\n",
    "            test_df[test_df.columns[i]][count] = j * 4\n",
    "        elif test_df.columns[i] in Position5:\n",
    "            test_df[test_df.columns[i]][count] = j * 5\n",
    "        count += 1"
   ]
  },
  {
   "cell_type": "code",
   "execution_count": 69,
   "metadata": {},
   "outputs": [],
   "source": [
    "team1_balance = []\n",
    "team2_balance = []\n",
    "for i in range(0, len(test_df)):\n",
    "    point1 = 0\n",
    "    point2 = 0\n",
    "    team1_pos = [0, 0, 0, 0, 0]\n",
    "    team2_pos = [0, 0, 0, 0, 0]\n",
    "    for j in test_df.iloc[i, 4:]:\n",
    "        if j > 0:\n",
    "            team1_pos[j-1] += 1\n",
    "        elif j < 0:\n",
    "            team2_pos[abs(j)-1] += 1\n",
    "    for x in team1_pos:\n",
    "        if x == 0:\n",
    "            point1 += 1\n",
    "    for y in team2_pos:\n",
    "        if y == 0:\n",
    "            point2 += 1\n",
    "    team1_balance.append(point1)\n",
    "    team2_balance.append(point2)"
   ]
  },
  {
   "cell_type": "code",
   "execution_count": 70,
   "metadata": {},
   "outputs": [],
   "source": [
    "test_df['Team 1 Balance'] = team1_balance\n",
    "test_df['Team 2 Balance'] = team2_balance"
   ]
  },
  {
   "cell_type": "code",
   "execution_count": 71,
   "metadata": {},
   "outputs": [],
   "source": [
    "train_df['Balance'] = train_df['Team 1 Balance'] - train_df['Team 2 Balance']\n",
    "test_df['Balance'] = test_df['Team 1 Balance'] - test_df['Team 2 Balance']"
   ]
  },
  {
   "cell_type": "code",
   "execution_count": 22,
   "metadata": {},
   "outputs": [],
   "source": [
    "train_x = train_df.iloc[:, 4:115]\n",
    "train_x['Balance'] = train_df['Balance']\n",
    "train_y = train_df['Result']\n",
    "\n",
    "test_x = test_df.iloc[:, 4:115]\n",
    "test_x['Balance'] = test_df['Balance']\n",
    "test_y = test_df['Result']"
   ]
  },
  {
   "cell_type": "code",
   "execution_count": 23,
   "metadata": {},
   "outputs": [
    {
     "name": "stdout",
     "output_type": "stream",
     "text": [
      "Train Accuracy: 0.6019212088505127\n",
      "Test Accuracy: 0.5999611424130562\n"
     ]
    }
   ],
   "source": [
    "from sklearn.linear_model import LogisticRegression\n",
    "from sklearn.metrics import accuracy_score \n",
    "    \n",
    "model = LogisticRegression(random_state = 1012)\n",
    "model.fit(train_x, train_y)\n",
    "    \n",
    "train_pred_y = model.predict(train_x)\n",
    "train_acc = accuracy_score(train_y, train_pred_y)\n",
    "test_pred_y = model.predict(test_x)\n",
    "test_acc = accuracy_score(test_y, test_pred_y)\n",
    "\n",
    "print(\"Train Accuracy: {}\".format(train_acc))\n",
    "print(\"Test Accuracy: {}\".format(test_acc))"
   ]
  },
  {
   "cell_type": "markdown",
   "metadata": {},
   "source": [
    "## Improvement 3"
   ]
  },
  {
   "cell_type": "code",
   "execution_count": null,
   "metadata": {},
   "outputs": [],
   "source": [
    "使用加入Balance欄位的資料再進行一次"
   ]
  },
  {
   "cell_type": "code",
   "execution_count": 112,
   "metadata": {},
   "outputs": [
    {
     "name": "stderr",
     "output_type": "stream",
     "text": [
      "C:\\Users\\user\\Anaconda3\\lib\\site-packages\\ipykernel_launcher.py:1: SettingWithCopyWarning: \n",
      "A value is trying to be set on a copy of a slice from a DataFrame.\n",
      "Try using .loc[row_indexer,col_indexer] = value instead\n",
      "\n",
      "See the caveats in the documentation: https://pandas.pydata.org/pandas-docs/stable/user_guide/indexing.html#returning-a-view-versus-a-copy\n",
      "  \"\"\"Entry point for launching an IPython kernel.\n",
      "C:\\Users\\user\\Anaconda3\\lib\\site-packages\\ipykernel_launcher.py:2: SettingWithCopyWarning: \n",
      "A value is trying to be set on a copy of a slice from a DataFrame.\n",
      "Try using .loc[row_indexer,col_indexer] = value instead\n",
      "\n",
      "See the caveats in the documentation: https://pandas.pydata.org/pandas-docs/stable/user_guide/indexing.html#returning-a-view-versus-a-copy\n",
      "  \n"
     ]
    }
   ],
   "source": [
    "train_x2['Balance'] = train_df['Balance']\n",
    "test_x2['Balance'] = test_df['Balance']"
   ]
  },
  {
   "cell_type": "code",
   "execution_count": 128,
   "metadata": {},
   "outputs": [
    {
     "name": "stdout",
     "output_type": "stream",
     "text": [
      "Epoch 1/3\n",
      "92650/92650 [==============================] - 18s 198us/step - loss: 0.6694 - accuracy: 0.5881\n",
      "Epoch 2/3\n",
      "92650/92650 [==============================] - 15s 167us/step - loss: 0.6628 - accuracy: 0.5999\n",
      "Epoch 3/3\n",
      "92650/92650 [==============================] - 15s 159us/step - loss: 0.6590 - accuracy: 0.6061\n",
      "92650/92650 [==============================] - 2s 21us/step\n",
      "Train Accuracy: 61.64\n"
     ]
    }
   ],
   "source": [
    "from keras.models import Sequential\n",
    "from keras.layers import Dense\n",
    "\n",
    "model = Sequential()\n",
    "model.add(Dense(96, input_dim=112, activation='relu'))\n",
    "model.add(Dense(48, activation='relu'))\n",
    "model.add(Dense(12, activation='relu'))\n",
    "model.add(Dense(1, activation='sigmoid'))\n",
    "\n",
    "model.compile(loss='binary_crossentropy', optimizer='adam', metrics=['accuracy'])\n",
    "\n",
    "model.fit(train_x2, train_y2, epochs=3, batch_size=10)  \n",
    "\n",
    "_, accuracy = model.evaluate(train_x2, train_y2)\n",
    "print('Train Accuracy: %.2f' % (accuracy*100))"
   ]
  },
  {
   "cell_type": "code",
   "execution_count": 129,
   "metadata": {},
   "outputs": [
    {
     "name": "stdout",
     "output_type": "stream",
     "text": [
      "Test Accuracy: 59.48\n"
     ]
    }
   ],
   "source": [
    "from sklearn.metrics import accuracy_score\n",
    "\n",
    "predictions2 = model.predict_classes(test_x2)\n",
    "accuracy2 = accuracy_score(test_y2, predictions2)\n",
    "print('Test Accuracy: %.2f' % (accuracy2*100))"
   ]
  }
 ],
 "metadata": {
  "celltoolbar": "Attachments",
  "kernelspec": {
   "display_name": "Python 3",
   "language": "python",
   "name": "python3"
  },
  "language_info": {
   "codemirror_mode": {
    "name": "ipython",
    "version": 3
   },
   "file_extension": ".py",
   "mimetype": "text/x-python",
   "name": "python",
   "nbconvert_exporter": "python",
   "pygments_lexer": "ipython3",
   "version": "3.7.5"
  }
 },
 "nbformat": 4,
 "nbformat_minor": 2
}
